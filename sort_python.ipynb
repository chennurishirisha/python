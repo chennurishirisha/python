{
 "cells": [
  {
   "cell_type": "code",
   "execution_count": 2,
   "id": "4188dbb4",
   "metadata": {},
   "outputs": [
    {
     "name": "stdout",
     "output_type": "stream",
     "text": [
      "[2, 5, 10, 12, 31, 36, 54]\n",
      "['apple', 'boy', 'cot', 'fox', 'kite']\n"
     ]
    }
   ],
   "source": [
    "l1 = [10,2,5,12,36,54,31]\n",
    "l2 = ['kite','apple','cot','fox','boy']\n",
    "l1.sort()\n",
    "l2.sort()\n",
    "print(l1)\n",
    "print(l2)"
   ]
  },
  {
   "cell_type": "markdown",
   "id": "5be5b58b",
   "metadata": {},
   "source": [
    "list contain hetarogenious objects then type error comes.only list contain homogeanious objects only.\n",
    "hetarogenious['jnm'9,0],homogenious[4,5,6]['6','jm']['nm','k'] for sort functions only."
   ]
  },
  {
   "cell_type": "code",
   "execution_count": 4,
   "id": "b3ad782c",
   "metadata": {},
   "outputs": [
    {
     "name": "stdout",
     "output_type": "stream",
     "text": [
      "[56, 41, 20, 12, 5, 3]\n"
     ]
    }
   ],
   "source": [
    "l = [20,5,3,56,12,41]\n",
    "l.sort(reverse = True)\n",
    "print(l)"
   ]
  },
  {
   "cell_type": "code",
   "execution_count": 6,
   "id": "7a5ed772",
   "metadata": {},
   "outputs": [
    {
     "name": "stdout",
     "output_type": "stream",
     "text": [
      "[20, 5, 3, 56, 12, 41]\n",
      "[20, 22, 3, 56, 12, 41]\n"
     ]
    }
   ],
   "source": [
    "l = [20,5,3,56,12,41]\n",
    "m = l[:]\n",
    "m[1] = 22\n",
    "print(l)\n",
    "print(m)"
   ]
  },
  {
   "cell_type": "code",
   "execution_count": 7,
   "id": "a3753922",
   "metadata": {},
   "outputs": [
    {
     "name": "stdout",
     "output_type": "stream",
     "text": [
      "[20, 5, 3, 56, 12, 41]\n",
      "[20, 22, 3, 56, 12, 41]\n"
     ]
    }
   ],
   "source": [
    "l = [20,5,3,56,12,41]\n",
    "m = l.copy()## clonning perpose\n",
    "m[1] = 22\n",
    "print(l)\n",
    "print(m)"
   ]
  },
  {
   "cell_type": "code",
   "execution_count": 8,
   "id": "f4a23c3d",
   "metadata": {},
   "outputs": [
    {
     "name": "stdout",
     "output_type": "stream",
     "text": [
      "a [10, 20, 30, 40, 50, 60]\n",
      "b [40, 50, 60]\n",
      "c None\n"
     ]
    }
   ],
   "source": [
    "a = [10,20,30]\n",
    "b = [40,50,60]\n",
    "c = a.extend(b)\n",
    "print('a',a)\n",
    "print('b',b)\n",
    "print('c',c)  # extend method cannot return any thing.(None)"
   ]
  },
  {
   "cell_type": "code",
   "execution_count": 10,
   "id": "fa20e6f4",
   "metadata": {},
   "outputs": [
    {
     "name": "stdout",
     "output_type": "stream",
     "text": [
      "[10, 20, 30]\n",
      "[]\n"
     ]
    }
   ],
   "source": [
    "a = [10,20,30]\n",
    "print(a)\n",
    "a.clear()\n",
    "print(a)"
   ]
  },
  {
   "cell_type": "code",
   "execution_count": 12,
   "id": "e3f46723",
   "metadata": {},
   "outputs": [
    {
     "name": "stdout",
     "output_type": "stream",
     "text": [
      "30\n",
      "50\n"
     ]
    }
   ],
   "source": [
    "a = [10,20,30,[40,50]]\n",
    "print(a[2])\n",
    "print(a[3][1])"
   ]
  },
  {
   "cell_type": "code",
   "execution_count": null,
   "id": "9a6c5c08",
   "metadata": {},
   "outputs": [],
   "source": []
  },
  {
   "cell_type": "markdown",
   "id": "bf27d759",
   "metadata": {},
   "source": [
    "WAP TO nested list is print in the matrix form"
   ]
  },
  {
   "cell_type": "code",
   "execution_count": 16,
   "id": "95c9b39f",
   "metadata": {},
   "outputs": [
    {
     "name": "stdout",
     "output_type": "stream",
     "text": [
      "[[10, 20], [30, 40], [50, 60]]\n",
      "[10, 20]\n",
      "[30, 40]\n",
      "[50, 60]\n",
      "Elements in matrics style:\n",
      "10 20 \n",
      "30 40 \n",
      "50 60 \n"
     ]
    }
   ],
   "source": [
    "p = [[10,20],[30,40],[50,60]]\n",
    "print(p)\n",
    "for x in p:\n",
    "    print(x)\n",
    "print('Elements in matrics style:')\n",
    "for i in range(len(p)):\n",
    "    for j in range(len(p[i])):\n",
    "        print(p[i][j],end = ' ')\n",
    "    print()"
   ]
  },
  {
   "cell_type": "code",
   "execution_count": 19,
   "id": "22038834",
   "metadata": {},
   "outputs": [
    {
     "name": "stdout",
     "output_type": "stream",
     "text": [
      "[1, 4, 9, 16, 25, 36, 49, 64, 81, 100]\n",
      "[1, 4, 9, 16, 25, 36, 49, 64, 81, 100]\n"
     ]
    }
   ],
   "source": [
    "l1 = []\n",
    "for x in range(1,11):\n",
    "    l1.append(x*x)\n",
    "print(l1)\n",
    "# or\n",
    "l1 = [x*x for x in range(1,11)]  # list comprehensions\n",
    "print(l1)"
   ]
  },
  {
   "cell_type": "code",
   "execution_count": null,
   "id": "03de10d7",
   "metadata": {},
   "outputs": [],
   "source": [
    "#list comprehension =  [ expression for x in sequence]\n",
    "\n"
   ]
  },
  {
   "cell_type": "code",
   "execution_count": 21,
   "id": "5f3953d0",
   "metadata": {},
   "outputs": [
    {
     "name": "stdout",
     "output_type": "stream",
     "text": [
      "[1, 4, 9, 16, 25, 36, 49, 64, 81, 100, 121, 144, 169, 196, 225, 256, 289, 324, 361, 400]\n",
      "[4, 16, 36, 64, 100, 144, 196, 256, 324, 400]\n"
     ]
    }
   ],
   "source": [
    "l1 = [x*x for  x in range(1,21)]\n",
    "l2 = [x for x in l1 if x%2 == 0]\n",
    "print(l1)\n",
    "print(l2)"
   ]
  },
  {
   "cell_type": "code",
   "execution_count": 36,
   "id": "66c20853",
   "metadata": {},
   "outputs": [
    {
     "name": "stdout",
     "output_type": "stream",
     "text": [
      "79863542\n",
      "536897\n",
      "9\n",
      "\n",
      "\n",
      "7986354210\n"
     ]
    }
   ],
   "source": [
    "s = '0124536897'\n",
    "print(s[9:1:-1])  #back word direction\n",
    "print(s[4:10:+1])  # forword direction\n",
    "print(s[-2:-3:-2])\n",
    "print(s[0:-1:-1])\n",
    "print()\n",
    "print(s[::-1])\n"
   ]
  },
  {
   "cell_type": "code",
   "execution_count": 40,
   "id": "9272a9b5",
   "metadata": {},
   "outputs": [
    {
     "name": "stdout",
     "output_type": "stream",
     "text": [
      "enter any string: shirishavenkaeshwarlu\n",
      "['i', 'a', 'e', 'u']\n",
      "the no. of vowels are presents in  shirishavenkaeshwarlu is:  4\n"
     ]
    }
   ],
   "source": [
    "# WAP TO DISPLAY UNIQUE VOWELS PRESENT IN THE GIVEN STRING\n",
    "s = input('enter any string: ')\n",
    "l = ['a','e','i','o','u']\n",
    "output = []\n",
    "for i in s:\n",
    "    if i in l:\n",
    "        if i not in output:\n",
    "            output.append(i)\n",
    "print(output)\n",
    "print('the no. of vowels are presents in ',s,'is: ',len(output))"
   ]
  },
  {
   "cell_type": "code",
   "execution_count": 41,
   "id": "8b7842b1",
   "metadata": {},
   "outputs": [
    {
     "name": "stdout",
     "output_type": "stream",
     "text": [
      "enter any string: RAVISHAENKARU\n",
      "['a', 'i', 'e', 'u']\n",
      "the no. of vowels are presents in  RAVISHAENKARU is:  4\n"
     ]
    }
   ],
   "source": [
    "# WAP TO DISPLAY UNIQUE VOWELS PRESENT IN THE GIVEN STRING\n",
    "s = input('enter any string: ')\n",
    "l = ['a','e','i','o','u']\n",
    "output = []\n",
    "for i in s:\n",
    "    if i.lower() in l:\n",
    "        if i.lower() not in output:\n",
    "            output.append(i.lower())\n",
    "print(output)\n",
    "print('the no. of vowels are presents in ',s,'is: ',len(output))"
   ]
  },
  {
   "cell_type": "code",
   "execution_count": null,
   "id": "045debfa",
   "metadata": {},
   "outputs": [],
   "source": []
  },
  {
   "cell_type": "code",
   "execution_count": null,
   "id": "7515e8ef",
   "metadata": {},
   "outputs": [],
   "source": []
  },
  {
   "cell_type": "code",
   "execution_count": null,
   "id": "0cb2d6d2",
   "metadata": {},
   "outputs": [],
   "source": []
  },
  {
   "cell_type": "code",
   "execution_count": null,
   "id": "dc9446d4",
   "metadata": {},
   "outputs": [],
   "source": []
  },
  {
   "cell_type": "code",
   "execution_count": null,
   "id": "f1557801",
   "metadata": {},
   "outputs": [],
   "source": []
  },
  {
   "cell_type": "code",
   "execution_count": null,
   "id": "e69d7456",
   "metadata": {},
   "outputs": [],
   "source": []
  },
  {
   "cell_type": "code",
   "execution_count": null,
   "id": "2d18d1e9",
   "metadata": {},
   "outputs": [],
   "source": []
  },
  {
   "cell_type": "code",
   "execution_count": null,
   "id": "af18d6c5",
   "metadata": {},
   "outputs": [],
   "source": []
  }
 ],
 "metadata": {
  "kernelspec": {
   "display_name": "Python 3 (ipykernel)",
   "language": "python",
   "name": "python3"
  },
  "language_info": {
   "codemirror_mode": {
    "name": "ipython",
    "version": 3
   },
   "file_extension": ".py",
   "mimetype": "text/x-python",
   "name": "python",
   "nbconvert_exporter": "python",
   "pygments_lexer": "ipython3",
   "version": "3.11.0"
  }
 },
 "nbformat": 4,
 "nbformat_minor": 5
}
