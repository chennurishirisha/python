{
 "cells": [
  {
   "cell_type": "code",
   "execution_count": 5,
   "id": "bf883994",
   "metadata": {},
   "outputs": [
    {
     "name": "stdout",
     "output_type": "stream",
     "text": [
      "8\n",
      "6\n",
      "2\n"
     ]
    }
   ],
   "source": [
    "s ='sdfrdefsdrreffderfdrfderferfd'\n",
    "print(s.count('f'))\n",
    "print(s.count('f',8,len(s)))\n",
    "print(s.count('f',8,15))"
   ]
  },
  {
   "cell_type": "code",
   "execution_count": 6,
   "id": "3723429c",
   "metadata": {},
   "outputs": [
    {
     "name": "stdout",
     "output_type": "stream",
     "text": [
      "string objects is immutable\n",
      "string objects are immutable\n"
     ]
    }
   ],
   "source": [
    "s = 'string objects are immutable'  # in s we cannot any changes \n",
    "s1 = s.replace(\"are\",'is')   # the changes will store in another object only\n",
    "print(s1)\n",
    "print(s)"
   ]
  },
  {
   "cell_type": "code",
   "execution_count": 8,
   "id": "ae8be648",
   "metadata": {},
   "outputs": [
    {
     "name": "stdout",
     "output_type": "stream",
     "text": [
      "<class 'list'>\n",
      "['seatha', 'get', 'firtst', 'rank']\n",
      "seatha\n",
      "get\n",
      "firtst\n",
      "rank\n"
     ]
    }
   ],
   "source": [
    "#spliting of strings\n",
    "s = 'seatha get firtst rank'\n",
    "lst = s.split()\n",
    "print(type(lst))\n",
    "print(lst)\n",
    "for i in lst:\n",
    "    print(i)\n"
   ]
  },
  {
   "cell_type": "code",
   "execution_count": 9,
   "id": "f7acd339",
   "metadata": {},
   "outputs": [
    {
     "name": "stdout",
     "output_type": "stream",
     "text": [
      "02\n",
      "11\n",
      "2022\n"
     ]
    }
   ],
   "source": [
    "s = '02-11-2022'\n",
    "l = s.split('-')   #split concept is applicable for string only.\n",
    "for i in l:\n",
    "    print(i)"
   ]
  },
  {
   "cell_type": "code",
   "execution_count": 18,
   "id": "a050e287",
   "metadata": {},
   "outputs": [
    {
     "name": "stdout",
     "output_type": "stream",
     "text": [
      "geetha and reeta are both\n",
      "\n",
      "are\n",
      "best\n",
      "friends\n",
      "geetha\n",
      "and\n",
      "reeta\n",
      "are\n",
      "both  are best friends\n"
     ]
    }
   ],
   "source": [
    "str = 'geetha and reeta are both  are best friends'\n",
    "l = str.rsplit(' ',4)  \n",
    "for i in l:\n",
    "    print(i)\n",
    "h = str.split(' ',4)\n",
    "for x in h:\n",
    "    print(x)"
   ]
  },
  {
   "cell_type": "code",
   "execution_count": 19,
   "id": "fa2ba34c",
   "metadata": {},
   "outputs": [
    {
     "name": "stdout",
     "output_type": "stream",
     "text": [
      "good_bad_ugly\n"
     ]
    }
   ],
   "source": [
    "# join the strings with _separation\n",
    "l = ['good','bad','ugly']\n",
    "s = '_'.join(l)\n",
    "print(s)"
   ]
  },
  {
   "cell_type": "code",
   "execution_count": 22,
   "id": "efd5b43c",
   "metadata": {},
   "outputs": [
    {
     "name": "stdout",
     "output_type": "stream",
     "text": [
      "THE ROOPA IS MY BEST FRIEND\n",
      "the maana is very good girl\n",
      "The Roopa Is My Best Friend\n",
      "THE ROOPA IS MY BEST FRIEND\n",
      "the maana is very good girl\n",
      "The roopa is my best friend\n"
     ]
    }
   ],
   "source": [
    "# changing case of a string:\n",
    "s = 'the roopa is my best friend'\n",
    "S = 'THE MAANA IS VERY GOOD GIRL'\n",
    "print(s.upper())\n",
    "print(S.lower())\n",
    "print(s.title())  # 1st letter of the each word is capital\n",
    "print(s.swapcase())# inter change cases\n",
    "print(S.swapcase())\n",
    "print(s.capitalize())  #1st letter only capital\n"
   ]
  },
  {
   "cell_type": "code",
   "execution_count": 24,
   "id": "1cfc258b",
   "metadata": {},
   "outputs": [
    {
     "name": "stdout",
     "output_type": "stream",
     "text": [
      "True\n",
      "False\n"
     ]
    }
   ],
   "source": [
    "s = 'the roopa is my best friend'\n",
    "print(s.startswith('the'))\n",
    "print(s.endswith('best'))"
   ]
  },
  {
   "cell_type": "code",
   "execution_count": null,
   "id": "bd56c798",
   "metadata": {},
   "outputs": [],
   "source": []
  }
 ],
 "metadata": {
  "kernelspec": {
   "display_name": "Python 3 (ipykernel)",
   "language": "python",
   "name": "python3"
  },
  "language_info": {
   "codemirror_mode": {
    "name": "ipython",
    "version": 3
   },
   "file_extension": ".py",
   "mimetype": "text/x-python",
   "name": "python",
   "nbconvert_exporter": "python",
   "pygments_lexer": "ipython3",
   "version": "3.11.0"
  }
 },
 "nbformat": 4,
 "nbformat_minor": 5
}
