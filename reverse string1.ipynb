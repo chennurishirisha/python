{
 "cells": [
  {
   "cell_type": "code",
   "execution_count": 7,
   "id": "b5fc8fbd",
   "metadata": {},
   "outputs": [
    {
     "name": "stdout",
     "output_type": "stream",
     "text": [
      "ENTER ANY STRING: f4d5s6\n",
      "ffffdddddssssss\n"
     ]
    }
   ],
   "source": [
    "#WAP TO DISPLAY OF .I/P  = a4b2c3\n",
    " # o/p = aaaabbccc\n",
    "S = input('ENTER ANY STRING: ')\n",
    "output = ''\n",
    "for x in S:\n",
    "    if x.isalpha():\n",
    "        output = output+x\n",
    "        previous = x\n",
    "    else:\n",
    "        output = output+previous*(int(x)-1)\n",
    "print(output)"
   ]
  },
  {
   "cell_type": "code",
   "execution_count": null,
   "id": "7022c2d3",
   "metadata": {},
   "outputs": [],
   "source": [
    "#5.i/p = a4h3n2  # 'a' ofter 4th charecter\n",
    "# o/p = aehknp  #'h' ofter 3rd charecter..n ofter 2ndchar\n",
    "   \n",
    "# chr(unicode)...>character\n",
    "#ord(char)....>uncode"
   ]
  },
  {
   "cell_type": "code",
   "execution_count": 8,
   "id": "d9d5b3db",
   "metadata": {},
   "outputs": [
    {
     "name": "stdout",
     "output_type": "stream",
     "text": [
      "enter any string: v2g5b3\n",
      "vxglbe\n"
     ]
    }
   ],
   "source": [
    "s = input('enter any string: ')\n",
    "output = ''\n",
    "for x in s:\n",
    "    if x.isalpha():\n",
    "        output = output+x\n",
    "        previous = x\n",
    "    else:\n",
    "        newch = chr(ord(previous)+int(x))\n",
    "        output = output+newch\n",
    "print(output)\n",
    "        \n"
   ]
  },
  {
   "cell_type": "code",
   "execution_count": 5,
   "id": "f9759a57",
   "metadata": {},
   "outputs": [
    {
     "name": "stdout",
     "output_type": "stream",
     "text": [
      "enter a string : cbvnhbfnbvhncbhffbbvj\n",
      "cbvnhfj\n",
      "nfcvhjb\n",
      "['b', 'c', 'f', 'h', 'j', 'n', 'v']\n"
     ]
    }
   ],
   "source": [
    "#unique char in string , as string\n",
    "s = input('enter a string : ')\n",
    "l =[]\n",
    "for i in s:\n",
    "    if i not in l:\n",
    "        l.append(i)\n",
    "output = ''.join(l)  #convert list of chars into string.\n",
    "print(output)\n",
    "\n",
    "#OR\n",
    "print(''.join(set(s)))\n",
    "print(sorted(''.join(set(s))))\n"
   ]
  },
  {
   "cell_type": "code",
   "execution_count": 11,
   "id": "84efb09d",
   "metadata": {},
   "outputs": [
    {
     "name": "stdout",
     "output_type": "stream",
     "text": [
      "enter any stringstringmnjkiomkjnoimkjn\n",
      "d: {'s': 1, 't': 1, 'r': 1, 'i': 3, 'n': 4, 'g': 1, 'm': 3, 'j': 3, 'k': 3, 'o': 2}\n",
      "s occurrs 1 times\n",
      "t occurrs 1 times\n",
      "r occurrs 1 times\n",
      "i occurrs 3 times\n",
      "n occurrs 4 times\n",
      "g occurrs 1 times\n",
      "m occurrs 3 times\n",
      "j occurrs 3 times\n",
      "k occurrs 3 times\n",
      "o occurrs 2 times\n"
     ]
    }
   ],
   "source": [
    "# i/p bnhjuybnhjyubnhjuyhnbjhuyhjnb\n",
    "# o/p b..>5 n..>5 ...\n",
    "\n",
    "s = input('enter any string')\n",
    "d ={} #dictionary is group of key values\n",
    "for x in s:\n",
    "    if x not in d.keys():\n",
    "        d[x]=1\n",
    "    else:\n",
    "        d[x]=d[x]+1\n",
    "print('d:',d)\n",
    "\n",
    "for k,v in d.items():\n",
    "    print('{} occurrs {} times'.format(k,v))"
   ]
  },
  {
   "cell_type": "code",
   "execution_count": null,
   "id": "5cacaf29",
   "metadata": {},
   "outputs": [],
   "source": []
  }
 ],
 "metadata": {
  "kernelspec": {
   "display_name": "Python 3 (ipykernel)",
   "language": "python",
   "name": "python3"
  },
  "language_info": {
   "codemirror_mode": {
    "name": "ipython",
    "version": 3
   },
   "file_extension": ".py",
   "mimetype": "text/x-python",
   "name": "python",
   "nbconvert_exporter": "python",
   "pygments_lexer": "ipython3",
   "version": "3.11.0"
  }
 },
 "nbformat": 4,
 "nbformat_minor": 5
}
