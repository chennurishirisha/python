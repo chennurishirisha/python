{
 "cells": [
  {
   "cell_type": "code",
   "execution_count": 2,
   "id": "0a8aef08",
   "metadata": {},
   "outputs": [
    {
     "name": "stdout",
     "output_type": "stream",
     "text": [
      "[0, 10, 20, 30, 40, 50, 60, 70, 80, 90, 100]\n"
     ]
    }
   ],
   "source": [
    "l = []\n",
    "for x in range(101):\n",
    "    if x%10 == 0:\n",
    "        l.append(x)\n",
    "print(l)    "
   ]
  },
  {
   "cell_type": "code",
   "execution_count": 6,
   "id": "1966c479",
   "metadata": {},
   "outputs": [
    {
     "name": "stdout",
     "output_type": "stream",
     "text": [
      "[10, 20, 30, 40, 60]\n",
      "[10, 20, 30, 40, 50, 60]\n",
      "[900, 10, 20, 30, 40, 50, 60, 800]\n",
      "7\n",
      "0\n"
     ]
    }
   ],
   "source": [
    "# append  AND insert  method\n",
    "\n",
    "l = []\n",
    "l.append(10)\n",
    "l.append(20)\n",
    "l.append(30)\n",
    "l.append(40)\n",
    "l.append(60)\n",
    "print(l)\n",
    "l.insert(4,50)   # 4 is index possition and 50 is value\n",
    "print(l)\n",
    "l.insert(80,800)\n",
    "l.insert(-10,900)\n",
    "print(l)\n",
    "print(l.index(800))\n",
    "print(l.index(900))"
   ]
  },
  {
   "cell_type": "code",
   "execution_count": 10,
   "id": "486053cd",
   "metadata": {},
   "outputs": [
    {
     "name": "stdout",
     "output_type": "stream",
     "text": [
      "['aa', 'bb', 'cc', 'dd', 'ee', 'ff']\n",
      "['dd', 'ee', 'ff']\n",
      "['bb', 'cc', 'dd', 'ee', 'ff', 's', 'h', 'i', 'r', 'i', 'siri']\n"
     ]
    }
   ],
   "source": [
    "#extend method   remove function\n",
    "\n",
    "l1 = ['aa','bb','cc']\n",
    "l2 = ['dd', 'ee','ff']\n",
    "l1.extend(l2)\n",
    "print(l1)\n",
    "print(l2)\n",
    "l1.extend('shiri')\n",
    "l1.append('siri')\n",
    "l1.remove('aa')\n",
    "print(l1)\n"
   ]
  },
  {
   "cell_type": "code",
   "execution_count": 11,
   "id": "996f1420",
   "metadata": {},
   "outputs": [
    {
     "name": "stdout",
     "output_type": "stream",
     "text": [
      "enter element to be removed:50\n",
      "Removed Successully\n",
      "[10, 20, 30, 40]\n"
     ]
    }
   ],
   "source": [
    "l1 = [10,50,20,30,40]\n",
    "x = int(input('enter element to be removed:'))\n",
    "if x in l1:\n",
    "    l1.remove(x)\n",
    "    print('Removed Successully')\n",
    "    print(l1)\n",
    "else:\n",
    "    print('Specified element is not available')\n",
    "    "
   ]
  },
  {
   "cell_type": "code",
   "execution_count": 14,
   "id": "143b454c",
   "metadata": {},
   "outputs": [
    {
     "data": {
      "text/plain": [
       "40"
      ]
     },
     "execution_count": 14,
     "metadata": {},
     "output_type": "execute_result"
    }
   ],
   "source": [
    "#pop()>>>removed last value. index\n",
    "#extend method   remove function\n",
    "\n",
    "l1 = [10,50,20,30,40]\n",
    "l1.pop()"
   ]
  },
  {
   "cell_type": "markdown",
   "id": "a9777838",
   "metadata": {},
   "source": [
    "#list objects are Dynamic means increase or decrease\n",
    "\n",
    "append(),insert(),extend()====> to increase size\n",
    "\n",
    "remove(),pop()===>to decrease the size"
   ]
  },
  {
   "cell_type": "code",
   "execution_count": 17,
   "id": "38209a76",
   "metadata": {},
   "outputs": [
    {
     "name": "stdout",
     "output_type": "stream",
     "text": [
      "[40, 30, 20, 50, 10]\n"
     ]
    }
   ],
   "source": [
    "l1 =[10,50,20,30,40]\n",
    "l1.reverse()\n",
    "print(l1)"
   ]
  },
  {
   "cell_type": "code",
   "execution_count": null,
   "id": "b79cd98e",
   "metadata": {},
   "outputs": [],
   "source": []
  },
  {
   "cell_type": "code",
   "execution_count": null,
   "id": "226a41e1",
   "metadata": {},
   "outputs": [],
   "source": []
  },
  {
   "cell_type": "code",
   "execution_count": null,
   "id": "f75b60d5",
   "metadata": {},
   "outputs": [],
   "source": []
  },
  {
   "cell_type": "code",
   "execution_count": null,
   "id": "342771f1",
   "metadata": {},
   "outputs": [],
   "source": []
  },
  {
   "cell_type": "code",
   "execution_count": null,
   "id": "4ef2686f",
   "metadata": {},
   "outputs": [],
   "source": []
  },
  {
   "cell_type": "code",
   "execution_count": null,
   "id": "e7ec4085",
   "metadata": {},
   "outputs": [],
   "source": []
  },
  {
   "cell_type": "code",
   "execution_count": null,
   "id": "50be7ace",
   "metadata": {},
   "outputs": [],
   "source": []
  },
  {
   "cell_type": "code",
   "execution_count": null,
   "id": "0ee80acf",
   "metadata": {},
   "outputs": [],
   "source": []
  },
  {
   "cell_type": "code",
   "execution_count": null,
   "id": "8b556a16",
   "metadata": {},
   "outputs": [],
   "source": []
  },
  {
   "cell_type": "code",
   "execution_count": null,
   "id": "fe50704e",
   "metadata": {},
   "outputs": [],
   "source": []
  }
 ],
 "metadata": {
  "kernelspec": {
   "display_name": "Python 3 (ipykernel)",
   "language": "python",
   "name": "python3"
  },
  "language_info": {
   "codemirror_mode": {
    "name": "ipython",
    "version": 3
   },
   "file_extension": ".py",
   "mimetype": "text/x-python",
   "name": "python",
   "nbconvert_exporter": "python",
   "pygments_lexer": "ipython3",
   "version": "3.11.0"
  }
 },
 "nbformat": 4,
 "nbformat_minor": 5
}
