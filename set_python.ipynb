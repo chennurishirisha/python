{
 "cells": [
  {
   "cell_type": "code",
   "execution_count": 1,
   "id": "6ddaa455",
   "metadata": {},
   "outputs": [
    {
     "data": {
      "text/plain": [
       "dict"
      ]
     },
     "execution_count": 1,
     "metadata": {},
     "output_type": "execute_result"
    }
   ],
   "source": [
    "s = {}\n",
    "type(s)"
   ]
  },
  {
   "cell_type": "code",
   "execution_count": 2,
   "id": "665077e3",
   "metadata": {},
   "outputs": [
    {
     "name": "stdout",
     "output_type": "stream",
     "text": [
      "{'h', 'g', 'v', 'b'}\n"
     ]
    }
   ],
   "source": [
    "s = set('vbhgbhgvbhg')\n",
    "print(s)"
   ]
  },
  {
   "cell_type": "code",
   "execution_count": 3,
   "id": "d8f56e39",
   "metadata": {},
   "outputs": [
    {
     "name": "stdout",
     "output_type": "stream",
     "text": [
      "{1: 'abc', 2: 'sai', 3: 'rgy', 'gbv': 'boy'}\n"
     ]
    }
   ],
   "source": [
    "d ={}\n",
    "d[1] = 'abc'\n",
    "d[2] ='sai'\n",
    "d[3] = 'rgy'\n",
    "d['gbv'] = 'boy'\n",
    "print(d)"
   ]
  },
  {
   "cell_type": "code",
   "execution_count": null,
   "id": "0aab5b71",
   "metadata": {},
   "outputs": [],
   "source": [
    "# WAP to enter name and %of marks in a dictionary and display info on the screen"
   ]
  }
 ],
 "metadata": {
  "kernelspec": {
   "display_name": "Python 3 (ipykernel)",
   "language": "python",
   "name": "python3"
  },
  "language_info": {
   "codemirror_mode": {
    "name": "ipython",
    "version": 3
   },
   "file_extension": ".py",
   "mimetype": "text/x-python",
   "name": "python",
   "nbconvert_exporter": "python",
   "pygments_lexer": "ipython3",
   "version": "3.11.0"
  }
 },
 "nbformat": 4,
 "nbformat_minor": 5
}
