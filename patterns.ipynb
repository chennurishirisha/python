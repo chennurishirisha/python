{
 "cells": [
  {
   "cell_type": "code",
   "execution_count": 3,
   "id": "2ed274e3",
   "metadata": {},
   "outputs": [
    {
     "name": "stdout",
     "output_type": "stream",
     "text": [
      "Enter the size of the pattern: 8\n",
      "********\n",
      "      * \n",
      "     *  \n",
      "    *   \n",
      "   *    \n",
      "  *     \n",
      " *      \n",
      "********\n"
     ]
    }
   ],
   "source": [
    "n = int(input(\"Enter the size of the pattern: \"))\n",
    "\n",
    "for i in range(n):\n",
    "    for j in range(n):\n",
    "        if i == 0 or i == n-1 or j == n-i-1:\n",
    "            print(\"*\", end=\"\")\n",
    "        else:\n",
    "            print(\" \", end=\"\")\n",
    "    print()"
   ]
  },
  {
   "cell_type": "code",
   "execution_count": 6,
   "id": "3444593a",
   "metadata": {},
   "outputs": [
    {
     "name": "stdout",
     "output_type": "stream",
     "text": [
      "Enter n value:5\n",
      "* * * * * "
     ]
    }
   ],
   "source": [
    "n = int(input('Enter n value:'))\n",
    "for i in range(n):\n",
    "    print('*',end =' ')\n",
    "    "
   ]
  },
  {
   "cell_type": "code",
   "execution_count": 8,
   "id": "47641c3d",
   "metadata": {},
   "outputs": [
    {
     "name": "stdout",
     "output_type": "stream",
     "text": [
      "Enter n value:5\n",
      "* * * * * \n",
      "* * * * * \n",
      "* * * * * \n",
      "* * * * * \n",
      "* * * * * \n"
     ]
    }
   ],
   "source": [
    "#WAP  5rows *'s' \n",
    "n = int(input('Enter n value:'))\n",
    "for i in range(n):\n",
    "    print('* '*n)"
   ]
  },
  {
   "cell_type": "code",
   "execution_count": 9,
   "id": "4a71a0f1",
   "metadata": {},
   "outputs": [
    {
     "name": "stdout",
     "output_type": "stream",
     "text": [
      "Enter no. of rows:4\n",
      "4 4 4 4 \n",
      "4 4 4 4 \n",
      "4 4 4 4 \n",
      "4 4 4 4 \n"
     ]
    }
   ],
   "source": [
    "\n",
    "#WAP to print square pattern with provided fixxed digit\n",
    "n = int(input('Enter no. of rows:'))\n",
    "for i in range(n):\n",
    "    print((str(n)+' ')*n)"
   ]
  },
  {
   "cell_type": "code",
   "execution_count": 10,
   "id": "f9adb4bb",
   "metadata": {},
   "outputs": [
    {
     "name": "stdout",
     "output_type": "stream",
     "text": [
      "Enter  no. of rows:5\n",
      "1 1 1 1 1 \n",
      "2 2 2 2 2 \n",
      "3 3 3 3 3 \n",
      "4 4 4 4 4 \n",
      "5 5 5 5 5 \n"
     ]
    }
   ],
   "source": [
    "# WAP to print sqaue patteren provided fixed digit in every row\n",
    "n = int(input('Enter  no. of rows:'))\n",
    "for i in range(n):\n",
    "    print((str(i+1)+' ')*n)"
   ]
  },
  {
   "cell_type": "code",
   "execution_count": 12,
   "id": "c56cccce",
   "metadata": {},
   "outputs": [
    {
     "name": "stdout",
     "output_type": "stream",
     "text": [
      "enter a number of rows:5\n",
      "1 1 1 1 1 \n",
      "2 2 2 2 2 \n",
      "3 3 3 3 3 \n",
      "4 4 4 4 4 \n",
      "5 5 5 5 5 \n"
     ]
    }
   ],
   "source": [
    "n = int(input('enter a number of rows:'))\n",
    "for i in range(1,n+1):\n",
    "    for j in range(1,n+1):\n",
    "        print(i,end = ' ')\n",
    "    print()"
   ]
  },
  {
   "cell_type": "code",
   "execution_count": 13,
   "id": "d57c4d99",
   "metadata": {},
   "outputs": [
    {
     "name": "stdout",
     "output_type": "stream",
     "text": [
      "Enter  no. of rows:5\n",
      "A A A A A \n",
      "A A A A A \n",
      "A A A A A \n",
      "A A A A A \n",
      "A A A A A \n"
     ]
    }
   ],
   "source": [
    "# WAP TO PRINT ALPHABET IN SQUARE PATTERN\n",
    "n = int(input('Enter  no. of rows:'))\n",
    "for i in range(n):\n",
    "    print('A '*n)"
   ]
  },
  {
   "cell_type": "code",
   "execution_count": 16,
   "id": "b7f158fa",
   "metadata": {},
   "outputs": [
    {
     "name": "stdout",
     "output_type": "stream",
     "text": [
      "Enter  no. of rows:5\n",
      "A A A A A \n",
      "B B B B B \n",
      "C C C C C \n",
      "D D D D D \n",
      "E E E E E \n"
     ]
    }
   ],
   "source": [
    "# WAP TO PRINT SUARE PATTERN WITH APHABET SYMBOLS\n",
    "n = int(input('Enter  no. of rows:'))\n",
    "for i in range(n):\n",
    "    print((chr(65+i)+' ')*n)"
   ]
  },
  {
   "cell_type": "code",
   "execution_count": 17,
   "id": "b4da1a66",
   "metadata": {},
   "outputs": [
    {
     "name": "stdout",
     "output_type": "stream",
     "text": [
      "Enter  no. of rows:5\n",
      "A B C D E \n",
      "A B C D E \n",
      "A B C D E \n",
      "A B C D E \n",
      "A B C D E \n"
     ]
    }
   ],
   "source": [
    "\n",
    "n = int(input('Enter  no. of rows:'))\n",
    "for i in range(n):\n",
    "    for j in range(n):\n",
    "        print(chr(65+j),end = ' ')\n",
    "    print()"
   ]
  },
  {
   "cell_type": "code",
   "execution_count": 18,
   "id": "0fcf45c8",
   "metadata": {
    "scrolled": true
   },
   "outputs": [
    {
     "name": "stdout",
     "output_type": "stream",
     "text": [
      "Enter  no. of rows:5\n",
      "0  1  2  3  4  \n",
      "0  1  2  3  4  \n",
      "0  1  2  3  4  \n",
      "0  1  2  3  4  \n",
      "0  1  2  3  4  \n"
     ]
    }
   ],
   "source": [
    "n = int(input('Enter  no. of rows:'))\n",
    "for i in range(n):\n",
    "    for j in range(n):\n",
    "        print((str(j)+' '),end = ' ')\n",
    "    print()"
   ]
  },
  {
   "cell_type": "code",
   "execution_count": 20,
   "id": "89bcec15",
   "metadata": {},
   "outputs": [
    {
     "name": "stdout",
     "output_type": "stream",
     "text": [
      "Enter  no. of rows:5\n",
      "5 5 5 5 5 \n",
      "4 4 4 4 4 \n",
      "3 3 3 3 3 \n",
      "2 2 2 2 2 \n",
      "1 1 1 1 1 \n"
     ]
    }
   ],
   "source": [
    "# WAP to print squre pattern with digits in desending order\n",
    "n = int(input('Enter  no. of rows:'))\n",
    "for i in range(n):\n",
    "   \n",
    "    print((str(n-i)+' ')*n)"
   ]
  },
  {
   "cell_type": "code",
   "execution_count": 29,
   "id": "26a4b33a",
   "metadata": {},
   "outputs": [
    {
     "name": "stdout",
     "output_type": "stream",
     "text": [
      "Enter  no. of rows:5\n",
      "5 4 3 2 1 \n",
      "5 4 3 2 1 \n",
      "5 4 3 2 1 \n",
      "5 4 3 2 1 \n",
      "5 4 3 2 1 \n"
     ]
    }
   ],
   "source": [
    "n = int(input('Enter  no. of rows:'))\n",
    "for i in range(n):\n",
    "    for j in range(n):\n",
    "        print(n-j,end = ' ')\n",
    "    print()"
   ]
  },
  {
   "cell_type": "code",
   "execution_count": 25,
   "id": "a759ea99",
   "metadata": {},
   "outputs": [
    {
     "name": "stdout",
     "output_type": "stream",
     "text": [
      "Enter  no. of rows:5\n",
      "E E E E E \n",
      "D D D D D \n",
      "C C C C C \n",
      "B B B B B \n",
      "A A A A A \n"
     ]
    }
   ],
   "source": [
    "# WAP to print squre pattern with alphabets in desending order\n",
    "n = int(input('Enter  no. of rows:'))\n",
    "for i in range(n):\n",
    "   \n",
    "    print((chr(64+n-i)+' ')*n)"
   ]
  },
  {
   "cell_type": "code",
   "execution_count": null,
   "id": "059eda0d",
   "metadata": {},
   "outputs": [],
   "source": []
  }
 ],
 "metadata": {
  "kernelspec": {
   "display_name": "Python 3 (ipykernel)",
   "language": "python",
   "name": "python3"
  },
  "language_info": {
   "codemirror_mode": {
    "name": "ipython",
    "version": 3
   },
   "file_extension": ".py",
   "mimetype": "text/x-python",
   "name": "python",
   "nbconvert_exporter": "python",
   "pygments_lexer": "ipython3",
   "version": "3.11.0"
  }
 },
 "nbformat": 4,
 "nbformat_minor": 5
}
