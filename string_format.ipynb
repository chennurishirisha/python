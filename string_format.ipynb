{
 "cells": [
  {
   "cell_type": "code",
   "execution_count": 27,
   "id": "e222d304",
   "metadata": {},
   "outputs": [
    {
     "name": "stdout",
     "output_type": "stream",
     "text": [
      "True\n",
      "False\n",
      "True\n",
      "True\n",
      "True\n",
      "True\n",
      "True\n",
      "True\n"
     ]
    }
   ],
   "source": [
    "print('sdfit1542'.isalnum()) #true\n",
    "print('sdfit1542'.isalpha()) #False\n",
    "print('sdfr'.isalpha()) # True\n",
    "print('1425'.isdigit())  #True\n",
    "print('asd142'.islower())   #True\n",
    "print('ASD'.isupper())   #True\n",
    "print('Lsd Asd Ser Dser'.istitle())   #True\n",
    "print(' '.isspace())  #True"
   ]
  },
  {
   "cell_type": "code",
   "execution_count": 33,
   "id": "15d13b50",
   "metadata": {},
   "outputs": [
    {
     "name": "stdout",
     "output_type": "stream",
     "text": [
      "enter any character:*\n",
      "it is non space special character\n"
     ]
    }
   ],
   "source": [
    "##wap to find given charecter is alpha,alnum,upper,lower ,digit,space,non special charecter.\n",
    "s = input('enter any character:')\n",
    "if s.isalnum():\n",
    "    print('Alpha Numeric character')\n",
    "    if s.isalpha():\n",
    "        print('Alphabet character')\n",
    "        if s.islower():\n",
    "            print(\"lower case alphabet character\")\n",
    "        else:\n",
    "            print('upper case alphabet character')\n",
    "            \n",
    "    else:\n",
    "        print('it is digit')\n",
    "elif s.isspace():\n",
    "    print('it is space character')\n",
    "else:\n",
    "    print('it is non space special character')\n",
    "            "
   ]
  },
  {
   "cell_type": "code",
   "execution_count": 2,
   "id": "47a75eeb",
   "metadata": {},
   "outputs": [
    {
     "name": "stdout",
     "output_type": "stream",
     "text": [
      "shiri's age is 36 and her salary is: 25000\n",
      "shiri's age is 36 and her salary is: 25000\n",
      "shiri's age is 36 and her salary is: 25000\n"
     ]
    }
   ],
   "source": [
    "#WAP for print of string is ..>\n",
    "#shiri's age is 36 and her salary is:25000 \n",
    "name = 'shiri'\n",
    "age = 36\n",
    "salary = 25000\n",
    "print(\"{}'s age is {} and her salary is: {}\".format(name,age,salary))\n",
    "print(\"{x}'s age is {y} and her salary is: {z}\".format(z = salary, x = name, y = age))\n",
    "print(\"{0}'s age is {1} and her salary is: {2}\".format(name,age,salary))\n"
   ]
  }
 ],
 "metadata": {
  "kernelspec": {
   "display_name": "Python 3 (ipykernel)",
   "language": "python",
   "name": "python3"
  },
  "language_info": {
   "codemirror_mode": {
    "name": "ipython",
    "version": 3
   },
   "file_extension": ".py",
   "mimetype": "text/x-python",
   "name": "python",
   "nbconvert_exporter": "python",
   "pygments_lexer": "ipython3",
   "version": "3.11.0"
  }
 },
 "nbformat": 4,
 "nbformat_minor": 5
}
