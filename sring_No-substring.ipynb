{
 "cells": [
  {
   "cell_type": "code",
   "execution_count": 1,
   "id": "86eedbc6",
   "metadata": {},
   "outputs": [
    {
     "name": "stdout",
     "output_type": "stream",
     "text": [
      "6\n"
     ]
    }
   ],
   "source": [
    "s = 'aarohisoftware'\n",
    "print(s.find('soft'))   # index of 1st occarence of word.left to right"
   ]
  },
  {
   "cell_type": "code",
   "execution_count": 2,
   "id": "38cb130c",
   "metadata": {},
   "outputs": [
    {
     "name": "stdout",
     "output_type": "stream",
     "text": [
      "-1\n"
     ]
    }
   ],
   "source": [
    "print(s.find('box'))  # if not cooured get ans is -1"
   ]
  },
  {
   "cell_type": "code",
   "execution_count": 4,
   "id": "e44580ad",
   "metadata": {},
   "outputs": [
    {
     "name": "stdout",
     "output_type": "stream",
     "text": [
      "14\n"
     ]
    }
   ],
   "source": [
    "\n",
    "a = 'aarohisoftwaresoft'  #right to left\n",
    "print(a.rfind('soft'))   #counting from staring index,but word selecting reversely."
   ]
  },
  {
   "cell_type": "code",
   "execution_count": 5,
   "id": "2c253421",
   "metadata": {},
   "outputs": [
    {
     "name": "stdout",
     "output_type": "stream",
     "text": [
      "7\n",
      "30\n"
     ]
    }
   ],
   "source": [
    "\n",
    "# finding index of 'a' from 10 to 18indexes \n",
    "q = 'shirisharjjunaarohi is dfrgt sai '\n",
    "print(q.find('a'10,18))\n",
    "print(q.rfind('a'10,18))"
   ]
  },
  {
   "cell_type": "code",
   "execution_count": 6,
   "id": "7c97abe2",
   "metadata": {},
   "outputs": [
    {
     "name": "stdout",
     "output_type": "stream",
     "text": [
      "Enter main string:arjunarohiarjunarrohi\n",
      "enter substringarohi\n",
      "substring found\n"
     ]
    }
   ],
   "source": [
    "#exceptional handling syntax\n",
    "s = input(\"Enter main string:\")\n",
    "subs = input(\"enter substring\")\n",
    "try:\n",
    "    n = s.index(subs)\n",
    "except ValueError:\n",
    "    print(\"substring is not found in the main string\")\n",
    "else:\n",
    "    print(\"substring found\")"
   ]
  },
  {
   "cell_type": "code",
   "execution_count": 7,
   "id": "c1922a8a",
   "metadata": {},
   "outputs": [
    {
     "name": "stdout",
     "output_type": "stream",
     "text": [
      "Enter main string:arjunarohiarjunarohi\n",
      "enter substringvenkat\n",
      "substring is not found in the main string\n"
     ]
    }
   ],
   "source": [
    "#exceptional handling syntax\n",
    "s = input(\"Enter main string:\")\n",
    "subs = input(\"enter substring\")\n",
    "try:\n",
    "    n = s.index(subs)\n",
    "except ValueError:\n",
    "    print(\"substring is not found in the main string\")\n",
    "else:\n",
    "    print(\"substring found\")"
   ]
  },
  {
   "cell_type": "code",
   "execution_count": null,
   "id": "7e6248c1",
   "metadata": {},
   "outputs": [],
   "source": [
    "# wap to display all positions of substring in the given main string:"
   ]
  },
  {
   "cell_type": "code",
   "execution_count": 9,
   "id": "a849c62a",
   "metadata": {},
   "outputs": [
    {
     "name": "stdout",
     "output_type": "stream",
     "text": [
      "Enter main string: cvbgfdcvbgfdcvbgfdcfvgb\n",
      "enter substring: b\n",
      "finding subs index is : 2\n",
      "finding subs index is : 8\n",
      "finding subs index is : 14\n",
      "finding subs index is : 22\n",
      "not found\n"
     ]
    }
   ],
   "source": [
    "\n",
    "s = input(\"Enter main string: \")# wap to display   all positions of substring in the given main string:\n",
    "subs = input(\"enter substring: \")\n",
    "flag = False\n",
    "n = len(s)\n",
    "pos = -1\n",
    "while True:\n",
    "    pos = s.find(subs,pos+1,n)\n",
    "    if pos == -1:\n",
    "        break\n",
    "    print(\"finding subs index is :\",pos)\n",
    "    flag == True\n",
    "if flag == False:\n",
    "    print('not found')\n",
    "    \n",
    "    "
   ]
  },
  {
   "cell_type": "code",
   "execution_count": 13,
   "id": "f0c56b9d",
   "metadata": {},
   "outputs": [
    {
     "name": "stdout",
     "output_type": "stream",
     "text": [
      "enter main stringnmjhbnmjhbnmkjhbnmkjhbnmjnmjnm\n",
      "enter substringnm\n",
      "finding substring index is : 0\n",
      "finding substring index is : 5\n",
      "finding substring index is : 10\n",
      "finding substring index is : 16\n",
      "finding substring index is : 22\n",
      "finding substring index is : 25\n",
      "finding substring index is : 28\n",
      "the number of occurences: 7\n"
     ]
    }
   ],
   "source": [
    "# wap to display no. of cuurences of  all positions of substring in the given main string:\n",
    "s = input('enter main string')\n",
    "sbs = input('enter substring')\n",
    "flag = False\n",
    "ps = -1\n",
    "n = len(s)\n",
    "count = 0\n",
    "while True:\n",
    "    ps = s.find(sbs,ps+1,n)\n",
    "    if ps ==-1:\n",
    "        break\n",
    "    print(\"finding substring index is :\",ps)\n",
    "    count =count+1 \n",
    "    flag = True\n",
    "if flag == False:\n",
    "    print(\"not found\")\n",
    "print(\"the number of occurences:\",count)"
   ]
  }
 ],
 "metadata": {
  "kernelspec": {
   "display_name": "Python 3 (ipykernel)",
   "language": "python",
   "name": "python3"
  },
  "language_info": {
   "codemirror_mode": {
    "name": "ipython",
    "version": 3
   },
   "file_extension": ".py",
   "mimetype": "text/x-python",
   "name": "python",
   "nbconvert_exporter": "python",
   "pygments_lexer": "ipython3",
   "version": "3.11.0"
  }
 },
 "nbformat": 4,
 "nbformat_minor": 5
}
