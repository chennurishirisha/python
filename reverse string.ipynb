{
 "cells": [
  {
   "cell_type": "code",
   "execution_count": 2,
   "id": "4f75d3f0",
   "metadata": {},
   "outputs": [
    {
     "name": "stdout",
     "output_type": "stream",
     "text": [
      "enter some string: qwer\n",
      "rewq\n"
     ]
    }
   ],
   "source": [
    "#WAP to reverse of given string\n",
    "# 1. slice operater  [::-1]\n",
    "s = input(\"enter some string: \")\n",
    "print(s[::-1])"
   ]
  },
  {
   "cell_type": "code",
   "execution_count": 3,
   "id": "9a5b4068",
   "metadata": {},
   "outputs": [
    {
     "name": "stdout",
     "output_type": "stream",
     "text": [
      "<reversed object at 0x000001B63D163820>\n"
     ]
    }
   ],
   "source": [
    "# 2. reversed method\n",
    "print(reversed(s))"
   ]
  },
  {
   "cell_type": "code",
   "execution_count": 7,
   "id": "8e725790",
   "metadata": {},
   "outputs": [
    {
     "name": "stdout",
     "output_type": "stream",
     "text": [
      "enter some string: bngh\n",
      "h\n",
      "g\n",
      "n\n",
      "b\n",
      "hgnb\n"
     ]
    }
   ],
   "source": [
    "a =  input(\"enter some string: \")\n",
    "for x in reversed(a):\n",
    "    print(x)\n",
    "\n",
    "print(''.join(reversed(a)))"
   ]
  },
  {
   "cell_type": "code",
   "execution_count": 8,
   "id": "bbd725a0",
   "metadata": {},
   "outputs": [
    {
     "name": "stdout",
     "output_type": "stream",
     "text": [
      "enter some string: cvfd\n",
      "dfvc"
     ]
    }
   ],
   "source": [
    "# by slice operater\n",
    "a =  input(\"enter some string: \")\n",
    "for x in reversed(a):\n",
    "    print(x, end = '')\n",
    "    "
   ]
  },
  {
   "cell_type": "code",
   "execution_count": 13,
   "id": "e7584b78",
   "metadata": {},
   "outputs": [
    {
     "name": "stdout",
     "output_type": "stream",
     "text": [
      "enter some string: vfgrt\n",
      "t\n",
      "tr\n",
      "trg\n",
      "trgf\n",
      "trgfv\n",
      "final output is: trgfv\n"
     ]
    }
   ],
   "source": [
    "# iteration method.\n",
    "a =  input(\"enter some string: \")\n",
    "i = len(a)-1\n",
    "output =''\n",
    "while i>=0:\n",
    "    output = output+a[i]\n",
    "    i = i-1\n",
    "    print(output)\n",
    "print(\"final output is:\",output)"
   ]
  },
  {
   "cell_type": "code",
   "execution_count": 18,
   "id": "03f30679",
   "metadata": {},
   "outputs": [
    {
     "name": "stdout",
     "output_type": "stream",
     "text": [
      "enter any string: shiri arjun arohi venkat\n",
      "l =  ['shiri', 'arjun', 'arohi', 'venkat']\n",
      "l1 =  ['venkat', 'arohi', 'arjun', 'shiri']\n",
      "output =  venkat arohi arjun shiri\n"
     ]
    }
   ],
   "source": [
    "# input = shiri arjun arohi venkat\n",
    "# output = venkat arohi arjun shiri\n",
    "s = input(\"enter any string: \")\n",
    "l = s.split()\n",
    "l1 = []\n",
    "i = len(l)-1\n",
    "while i>=0:\n",
    "    \n",
    "    l1.append(l[i])\n",
    "    i = i-1\n",
    "print('l = ',l)\n",
    "print('l1 = ',l1)\n",
    "output = ' '.join(l1)\n",
    "print('output = ',output)"
   ]
  },
  {
   "cell_type": "code",
   "execution_count": 2,
   "id": "4c4c2eab",
   "metadata": {},
   "outputs": [
    {
     "name": "stdout",
     "output_type": "stream",
     "text": [
      "enter any string:  shiri arjun arohi venkat\n",
      "['irihs', 'nujra', 'ihora', 'taknev']\n",
      "output is :  irihs nujra ihora taknev\n"
     ]
    }
   ],
   "source": [
    "# input = shiri arjun arohi venkat\n",
    "# output = irihs nujra ihora taknev\n",
    "\n",
    "s = input(\"enter any string: \")\n",
    "l = s.split()\n",
    "l1 = []\n",
    "for x in l:\n",
    "    l1.append(x[::-1]) # reversed word\n",
    "print(l1)\n",
    "output = ' '.join(l1)\n",
    "print('output is : ',output)"
   ]
  },
  {
   "cell_type": "code",
   "execution_count": null,
   "id": "91286236",
   "metadata": {},
   "outputs": [],
   "source": [
    "1.WAP to print even index and odd index charecters.\n",
    "\n",
    "2.s1 = RAVI\n",
    "S2 = TEJA\n",
    "O/P = RTAEVJIA\n",
    "\n",
    "3.I/P = B4A1D3\n",
    "O/P = ABD134##SORTED ALPHABETS AND DIGITS\n",
    "\n",
    "4.I/P  = a4b2c3\n",
    " o/p = aaaabbccc\n",
    "    \n",
    "5.i/p = a4h3n2  # 'a' ofter 4th charecter\n",
    "  o/p = aehknp  #'h' ofter 3rd charecter..n ofter 2ndchar\n",
    "   \n",
    "    "
   ]
  },
  {
   "cell_type": "code",
   "execution_count": 7,
   "id": "c08e467c",
   "metadata": {},
   "outputs": [
    {
     "name": "stdout",
     "output_type": "stream",
     "text": [
      "enter a string: cdfgrt\n",
      "charecter at even position cfr\n",
      "charecter at even position dgt\n",
      "the char at even position: \n",
      "cfr\n",
      "the char at odd position: \n",
      "d,g,t,"
     ]
    }
   ],
   "source": [
    "#1.WAP to print even index and odd index charecters.\n",
    "s = input('enter a string: ')\n",
    "print('charecter at even position',s[::2]) ##using slice operater\n",
    "print('charecter at even position',s[1::2])\n",
    "\n",
    "#by index using while loop\n",
    "i =0\n",
    "print('the char at even position: ')\n",
    "while i<len(s):\n",
    "    print(s[i],end = '')\n",
    "    i = i+2\n",
    "print()\n",
    "print('the char at odd position: ')\n",
    "i = 1\n",
    "while i <len(s):\n",
    "    print(s[i],end =',')\n",
    "    i = i+2\n",
    "    "
   ]
  },
  {
   "cell_type": "code",
   "execution_count": 12,
   "id": "95ed00a5",
   "metadata": {},
   "outputs": [
    {
     "name": "stdout",
     "output_type": "stream",
     "text": [
      "enter any string: xyz\n",
      "enter any string: abc\n",
      "xaybzc"
     ]
    }
   ],
   "source": [
    "s1 = input('enter any string: ')\n",
    "s2 = input('enter any string: ')\n",
    "i = 0\n",
    "j = 0\n",
    "while i< len(s1) or j <len(s2):\n",
    "    print(s1[i],end = '')\n",
    "    print(s2[j],end = '')\n",
    "    i = i+1\n",
    "    \n",
    "    j = j+1"
   ]
  },
  {
   "cell_type": "code",
   "execution_count": 20,
   "id": "83c212ab",
   "metadata": {},
   "outputs": [
    {
     "name": "stdout",
     "output_type": "stream",
     "text": [
      "enter some string: s1d4e5d2f15a25w2\n",
      "s1 =  145215252\n",
      "s2 =  sdedfaw\n",
      "output: 112224555addefsw\n"
     ]
    }
   ],
   "source": [
    "# 3. WAP to I/P = B4A1D3\n",
    "# O/P = ABD134   ##SORTED ALPHABETS AND DIGITS\n",
    "\n",
    "s = input('enter some string: ')\n",
    "s1 = s2 = output =''\n",
    "for x in s:\n",
    "    if x.isdigit():\n",
    "        s1 = s1+x\n",
    "    else:\n",
    "        s2 = s2+x\n",
    "        \n",
    "        \n",
    "print('s1 = ',s1)\n",
    "print('s2 = ',s2)\n",
    "for x in sorted(s1):\n",
    "    output = output+x\n",
    "for x in sorted(s2):\n",
    "    output = output+x\n",
    "print('output:',output)\n"
   ]
  },
  {
   "cell_type": "code",
   "execution_count": 21,
   "id": "5a9adf62",
   "metadata": {},
   "outputs": [
    {
     "name": "stdout",
     "output_type": "stream",
     "text": [
      "enter some string: c1f2g54yt25d4f\n",
      "['1', '2', '2', '4', '4', '5', '5', 'c', 'd', 'f', 'f', 'g', 't', 'y']\n"
     ]
    }
   ],
   "source": [
    "s = input('enter some string: ')\n",
    "s1 = s2 = output =''\n",
    "for x in s:\n",
    "    if x.isdigit():\n",
    "        s1 = s1+x\n",
    "    else:\n",
    "        s2 = s2+x\n",
    "output = s1+s2\n",
    "print(sorted(output))"
   ]
  },
  {
   "cell_type": "code",
   "execution_count": null,
   "id": "47fd2bf3",
   "metadata": {},
   "outputs": [],
   "source": [
    "# 4.I/P  = a4b2c3\n",
    " # o/p = aaaabbccc\n"
   ]
  }
 ],
 "metadata": {
  "kernelspec": {
   "display_name": "Python 3 (ipykernel)",
   "language": "python",
   "name": "python3"
  },
  "language_info": {
   "codemirror_mode": {
    "name": "ipython",
    "version": 3
   },
   "file_extension": ".py",
   "mimetype": "text/x-python",
   "name": "python",
   "nbconvert_exporter": "python",
   "pygments_lexer": "ipython3",
   "version": "3.11.0"
  }
 },
 "nbformat": 4,
 "nbformat_minor": 5
}
