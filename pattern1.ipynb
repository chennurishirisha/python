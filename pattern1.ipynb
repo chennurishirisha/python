{
 "cells": [
  {
   "cell_type": "code",
   "execution_count": 4,
   "id": "d5493190",
   "metadata": {},
   "outputs": [
    {
     "name": "stdout",
     "output_type": "stream",
     "text": [
      "enter n no. of rows5\n",
      "1 2 3 4 5 \n",
      "1 2 3 4 \n",
      "1 2 3 \n",
      "1 2 \n",
      "1 \n"
     ]
    }
   ],
   "source": [
    "n = int(input('enter n no. of rows'))\n",
    "for i in range(n):\n",
    "    for j in range(n-i):\n",
    "        print(j+1,end = ' ')\n",
    "    print()"
   ]
  },
  {
   "cell_type": "code",
   "execution_count": 5,
   "id": "21b0d501",
   "metadata": {},
   "outputs": [
    {
     "name": "stdout",
     "output_type": "stream",
     "text": [
      "enter n no. of rows5\n",
      "5 5 5 5 5 \n",
      "4 4 4 4 \n",
      "3 3 3 \n",
      "2 2 \n",
      "1 \n"
     ]
    }
   ],
   "source": [
    "n = int(input('enter n no. of rows'))\n",
    "for i in range(n):\n",
    "    for j in range(n-i):\n",
    "        print(n-i,end = ' ')\n",
    "    print()"
   ]
  },
  {
   "cell_type": "code",
   "execution_count": 6,
   "id": "95b37f6e",
   "metadata": {},
   "outputs": [
    {
     "name": "stdout",
     "output_type": "stream",
     "text": [
      "enter n no. of rows5\n",
      "5 4 3 2 1 \n",
      "5 4 3 2 \n",
      "5 4 3 \n",
      "5 4 \n",
      "5 \n"
     ]
    }
   ],
   "source": [
    "n = int(input('enter n no. of rows'))\n",
    "for i in range(n):\n",
    "    for j in range(n-i):\n",
    "        print(n-j,end = ' ')\n",
    "    print()"
   ]
  },
  {
   "cell_type": "code",
   "execution_count": 7,
   "id": "3a8b5b85",
   "metadata": {},
   "outputs": [
    {
     "name": "stdout",
     "output_type": "stream",
     "text": [
      "enter n no. of rows5\n",
      "1 \n",
      "1 2 \n",
      "1 2 3 \n",
      "1 2 3 4 \n",
      "1 2 3 4 5 \n"
     ]
    }
   ],
   "source": [
    "n = int(input('enter n no. of rows'))\n",
    "for i in range(n):\n",
    "    for j in range(i+1):\n",
    "        print(j+1,end = ' ')\n",
    "    print()"
   ]
  },
  {
   "cell_type": "code",
   "execution_count": 9,
   "id": "b3fbc9e2",
   "metadata": {},
   "outputs": [
    {
     "name": "stdout",
     "output_type": "stream",
     "text": [
      "enter n no. of rows5\n",
      "5 \n",
      "5 4 \n",
      "5 4 3 \n",
      "5 4 3 2 \n",
      "5 4 3 2 1 \n"
     ]
    }
   ],
   "source": [
    "n = int(input('enter n no. of rows'))\n",
    "for i in range(n):\n",
    "    for j in range(i+1):\n",
    "        print(n-j,end = ' ')\n",
    "    print()"
   ]
  },
  {
   "cell_type": "code",
   "execution_count": 22,
   "id": "3e2b146a",
   "metadata": {},
   "outputs": [
    {
     "name": "stdout",
     "output_type": "stream",
     "text": [
      "enter n no. of rows5\n",
      "A A A A A \n",
      "B B B B \n",
      "C C C \n",
      "D D \n",
      "E \n"
     ]
    }
   ],
   "source": [
    "# WAP to print INVERTED ANGLE TRIANGLE PATTERN WITH FIXED DIGIT UN EVERY ROW\n",
    "n = int(input('enter n no. of rows'))\n",
    "for i in range(n):\n",
    "    for j in range(n-i):\n",
    "        print(chr(65+i),end = ' ')\n",
    "    print()"
   ]
  },
  {
   "cell_type": "code",
   "execution_count": 17,
   "id": "65bddda8",
   "metadata": {},
   "outputs": [
    {
     "name": "stdout",
     "output_type": "stream",
     "text": [
      "enter n no. of rows5\n",
      "A A A A A \n",
      "B B B B \n",
      "C C C \n",
      "D D \n",
      "E \n"
     ]
    }
   ],
   "source": [
    "n = int(input('enter n no. of rows'))\n",
    "for i in range(n):\n",
    "    print((chr(65+i)+' ')*(n-i))"
   ]
  },
  {
   "cell_type": "code",
   "execution_count": null,
   "id": "94254da9",
   "metadata": {},
   "outputs": [],
   "source": [
    "n = int(input('enter n no. of rows'))\n",
    "for i in range(n):\n",
    "    for j in range(i+1):\n",
    "        print()"
   ]
  }
 ],
 "metadata": {
  "kernelspec": {
   "display_name": "Python 3 (ipykernel)",
   "language": "python",
   "name": "python3"
  },
  "language_info": {
   "codemirror_mode": {
    "name": "ipython",
    "version": 3
   },
   "file_extension": ".py",
   "mimetype": "text/x-python",
   "name": "python",
   "nbconvert_exporter": "python",
   "pygments_lexer": "ipython3",
   "version": "3.11.0"
  }
 },
 "nbformat": 4,
 "nbformat_minor": 5
}
