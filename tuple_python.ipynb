{
 "cells": [
  {
   "cell_type": "code",
   "execution_count": 3,
   "id": "dea12236",
   "metadata": {},
   "outputs": [
    {
     "name": "stdout",
     "output_type": "stream",
     "text": [
      "<class 'tuple'>\n",
      "<class 'int'>\n",
      "<class 'tuple'>\n",
      "<class 'tuple'>\n"
     ]
    }
   ],
   "source": [
    "t =()\n",
    "t1 = (10)\n",
    "t3 = ('c',)\n",
    "t2 = (10,20)\n",
    "\n",
    "print(type(t))\n",
    "print(type(t1))\n",
    "print(type(t2))\n",
    "print(type(t3))"
   ]
  },
  {
   "cell_type": "code",
   "execution_count": 5,
   "id": "935f09dc",
   "metadata": {},
   "outputs": [
    {
     "name": "stdout",
     "output_type": "stream",
     "text": [
      "('s', 'h', 'i', 'r', 'i', 's', 'h', 'a')\n",
      "r\n",
      "('h', 'i', 'r')\n"
     ]
    }
   ],
   "source": [
    "t = tuple('shirisha')\n",
    "print(t)\n",
    "print(t[3])  # indexiing 3 only\n",
    "print(t[1:4:1])  # indexing 1,2,3"
   ]
  },
  {
   "cell_type": "code",
   "execution_count": 6,
   "id": "fae52ab1",
   "metadata": {},
   "outputs": [
    {
     "name": "stdout",
     "output_type": "stream",
     "text": [
      "(10, 20, 30, 10, 20, 30, 10, 20, 30)\n"
     ]
    }
   ],
   "source": [
    "t1 = (10,20,30)\n",
    "t2 = t1*3\n",
    "print(t2)"
   ]
  },
  {
   "cell_type": "code",
   "execution_count": 1,
   "id": "022d00c9",
   "metadata": {},
   "outputs": [
    {
     "name": "stdout",
     "output_type": "stream",
     "text": [
      "a =  10 b = 20 c = 30 d =  40\n"
     ]
    }
   ],
   "source": [
    "t = (10,20,30,40)\n",
    "a,b,c,d = t\n",
    "print('a = ',a,'b =',b,'c =',c,'d = ',d)"
   ]
  },
  {
   "cell_type": "code",
   "execution_count": 3,
   "id": "8474be8e",
   "metadata": {},
   "outputs": [
    {
     "name": "stdout",
     "output_type": "stream",
     "text": [
      "a =  10 b = 20 c = 30 d =  40\n"
     ]
    }
   ],
   "source": [
    "l = [10,20,30,40]\n",
    "a,b,c,d = l\n",
    "print('a = ',a,'b =',b,'c =',c,'d = ',d)"
   ]
  },
  {
   "cell_type": "code",
   "execution_count": 4,
   "id": "cf4e491c",
   "metadata": {},
   "outputs": [
    {
     "name": "stdout",
     "output_type": "stream",
     "text": [
      "a =  40 b = 10 c = 20 d =  30\n"
     ]
    }
   ],
   "source": [
    "t = {10,20,30,40}\n",
    "a,b,c,d = t\n",
    "print('a = ',a,'b =',b,'c =',c,'d = ',d)"
   ]
  },
  {
   "cell_type": "code",
   "execution_count": 5,
   "id": "e9f6eb2b",
   "metadata": {},
   "outputs": [
    {
     "name": "stdout",
     "output_type": "stream",
     "text": [
      "a =  A b = B c = C d =  D\n"
     ]
    }
   ],
   "source": [
    "t = 'ABCD'\n",
    "a,b,c,d = t\n",
    "print('a = ',a,'b =',b,'c =',c,'d = ',d)  # unpacking is applicable for any sequence."
   ]
  },
  {
   "cell_type": "code",
   "execution_count": 8,
   "id": "7e474504",
   "metadata": {},
   "outputs": [
    {
     "name": "stdout",
     "output_type": "stream",
     "text": [
      "<generator object <genexpr> at 0x00000160B2E9E400>\n"
     ]
    }
   ],
   "source": [
    "## tuple comprehension is not suported in pythhon\n",
    "t = (x*x for x in range(1,11))\n",
    "print(t)"
   ]
  },
  {
   "cell_type": "code",
   "execution_count": 9,
   "id": "2442a061",
   "metadata": {},
   "outputs": [
    {
     "name": "stdout",
     "output_type": "stream",
     "text": [
      "[1, 4, 9, 16, 25, 36, 49, 64, 81, 100]\n"
     ]
    }
   ],
   "source": [
    "t = [x*x for x in range(1,11)]\n",
    "print(t)"
   ]
  },
  {
   "cell_type": "code",
   "execution_count": 11,
   "id": "289a661e",
   "metadata": {},
   "outputs": [
    {
     "name": "stdout",
     "output_type": "stream",
     "text": [
      "enter some tuple of numbers:  (5,6,8,12,36,45)\n",
      "sum =  112\n",
      "avg = 18.666666666666668\n"
     ]
    }
   ],
   "source": [
    "## WAP to take a tuple of no.s from keyboard and print sum ,average\n",
    "\n",
    "t = eval(input('enter some tuple of numbers: '))\n",
    "l = len(t)\n",
    "sum = 0\n",
    "for x in t:\n",
    "    sum = sum+x\n",
    "print('sum = ',sum)\n",
    "print('avg =',sum/l)\n",
    "    "
   ]
  },
  {
   "cell_type": "code",
   "execution_count": null,
   "id": "81eb0bc8",
   "metadata": {},
   "outputs": [],
   "source": []
  }
 ],
 "metadata": {
  "kernelspec": {
   "display_name": "Python 3 (ipykernel)",
   "language": "python",
   "name": "python3"
  },
  "language_info": {
   "codemirror_mode": {
    "name": "ipython",
    "version": 3
   },
   "file_extension": ".py",
   "mimetype": "text/x-python",
   "name": "python",
   "nbconvert_exporter": "python",
   "pygments_lexer": "ipython3",
   "version": "3.11.0"
  }
 },
 "nbformat": 4,
 "nbformat_minor": 5
}
