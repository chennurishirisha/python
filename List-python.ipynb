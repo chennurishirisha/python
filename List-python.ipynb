{
 "cells": [
  {
   "cell_type": "code",
   "execution_count": 5,
   "id": "8c36c09e",
   "metadata": {},
   "outputs": [
    {
     "name": "stdout",
     "output_type": "stream",
     "text": [
      "enter some list: ['k','o','p']\n",
      "['k', 'o', 'p']\n",
      "[0, 2, 4, 6, 8]\n"
     ]
    }
   ],
   "source": [
    "l = eval(input('enter some list: '))  # dynamic i/p\n",
    "print(l)\n",
    "print(list(range(0,10,2)))   #list()function"
   ]
  },
  {
   "cell_type": "code",
   "execution_count": 6,
   "id": "5b20c467",
   "metadata": {},
   "outputs": [
    {
     "name": "stdout",
     "output_type": "stream",
     "text": [
      "['d', 'r', 't', 'f', 'g']\n"
     ]
    }
   ],
   "source": [
    "s = 'drtfg'\n",
    "l= list(s)\n",
    "print(l)"
   ]
  },
  {
   "cell_type": "code",
   "execution_count": 10,
   "id": "c1e81e29",
   "metadata": {},
   "outputs": [
    {
     "name": "stdout",
     "output_type": "stream",
     "text": [
      "[10, 20, 50, 40, 30, 60, 80]\n",
      "[10, 50, 30, 80]\n",
      "[80, 60, 30, 40, 50, 20, 10]\n",
      "[10, 20, 50]\n"
     ]
    }
   ],
   "source": [
    "# split() function.\n",
    "\n",
    "l = [10,20,50,40,30,60,80]\n",
    "print(l[::])\n",
    "print(l[::2])\n",
    "print(l[::-1])\n",
    "print(l[0:3])"
   ]
  },
  {
   "cell_type": "code",
   "execution_count": 11,
   "id": "7c54374e",
   "metadata": {},
   "outputs": [
    {
     "name": "stdout",
     "output_type": "stream",
     "text": [
      "[10, 55, 30]\n"
     ]
    }
   ],
   "source": [
    "l =[10,20,30]\n",
    "l[1]= 55\n",
    "print(l)"
   ]
  },
  {
   "cell_type": "code",
   "execution_count": 3,
   "id": "3ab97d1d",
   "metadata": {},
   "outputs": [
    {
     "name": "stdout",
     "output_type": "stream",
     "text": [
      "10\n",
      "20\n",
      "50\n",
      "40\n",
      "30\n",
      "60\n",
      "80\n",
      "\n",
      "10\n",
      "20\n",
      "50\n",
      "40\n",
      "30\n",
      "60\n",
      "80\n"
     ]
    }
   ],
   "source": [
    "l =[10, 20, 50, 40, 30, 60, 80]\n",
    "i = 0\n",
    "while i<len(l):\n",
    "    print(l[i])\n",
    "    i =i+1\n",
    "    \n",
    "print()\n",
    "for x in l:\n",
    "    print(x)"
   ]
  },
  {
   "cell_type": "code",
   "execution_count": 10,
   "id": "34d41158",
   "metadata": {},
   "outputs": [],
   "source": [
    "l = [10, 20, 50, 40, 30, 60,55, 80]\n",
    "for i in l:\n",
    "    if i/2 ==0:\n",
    "        \n",
    "        print(i)"
   ]
  },
  {
   "cell_type": "code",
   "execution_count": 1,
   "id": "e3982245",
   "metadata": {},
   "outputs": [],
   "source": [
    "l = [10, 20, 50, 40, 30, 60,55, 80]\n",
    "for i in l:\n",
    "    if i/2 ==0:\n",
    "        \n",
    "        print(i)"
   ]
  },
  {
   "cell_type": "code",
   "execution_count": 3,
   "id": "2225ff46",
   "metadata": {},
   "outputs": [
    {
     "name": "stdout",
     "output_type": "stream",
     "text": [
      "2\n",
      "4\n",
      "6\n",
      "8\n"
     ]
    }
   ],
   "source": [
    "l = [2,3,4,5,6,7,8,9,11]\n",
    "for i in l:\n",
    "    if i%2 ==0:\n",
    "        print(i)"
   ]
  },
  {
   "cell_type": "code",
   "execution_count": 6,
   "id": "5f99fe4f",
   "metadata": {
    "scrolled": true
   },
   "outputs": [
    {
     "name": "stdout",
     "output_type": "stream",
     "text": [
      "A is available at positive index : 0 and at negative index -4\n",
      "B is available at positive index : 1 and at negative index -3\n",
      "C is available at positive index : 2 and at negative index -2\n",
      "D is available at positive index : 3 and at negative index -1\n"
     ]
    }
   ],
   "source": [
    "l = ['A','B','C','D']\n",
    "x = len(l)\n",
    "for i in range(x):\n",
    "    print(l[i],'is available at positive index :',i,'and at negative index',i-x)"
   ]
  },
  {
   "cell_type": "code",
   "execution_count": 1,
   "id": "6ed5e83d",
   "metadata": {},
   "outputs": [
    {
     "name": "stdout",
     "output_type": "stream",
     "text": [
      "no.of 6's  4\n",
      "no.of 2's  2\n",
      "no.of 5's  3\n"
     ]
    }
   ],
   "source": [
    "l=[5,6,8,2,12,5,6,4,5,6,2,6,]\n",
    "print(\"no.of 6's \",l.count(6))\n",
    "print(\"no.of 2's \",l.count(2))\n",
    "print(\"no.of 5's \",l.count(5))\n"
   ]
  },
  {
   "cell_type": "code",
   "execution_count": 9,
   "id": "c37fd9f6",
   "metadata": {},
   "outputs": [
    {
     "name": "stdout",
     "output_type": "stream",
     "text": [
      "enter a number:54\n",
      "Not Weird\n"
     ]
    }
   ],
   "source": [
    "i = int(input('enter a number:'))\n",
    "\n",
    "if 2 <= i<=5 and i % 2 == 0:\n",
    "    print('Not Weird')\n",
    "elif 6 <= i <= 20 and i % 2 == 0:\n",
    "    print('Weird')\n",
    "elif i >20 and i%2 == 0:\n",
    "    print('Not Weird')\n",
    "else:\n",
    "    print('Weird')"
   ]
  },
  {
   "cell_type": "code",
   "execution_count": 10,
   "id": "ff3c8c59",
   "metadata": {},
   "outputs": [
    {
     "name": "stdout",
     "output_type": "stream",
     "text": [
      "2\n"
     ]
    }
   ],
   "source": [
    "l = [10, 20, 50, 40, 30, 60,55, 80]\n",
    "print(l.index(50))"
   ]
  },
  {
   "cell_type": "code",
   "execution_count": 11,
   "id": "a3416c9e",
   "metadata": {},
   "outputs": [
    {
     "ename": "ValueError",
     "evalue": "100 is not in list",
     "output_type": "error",
     "traceback": [
      "\u001b[1;31m---------------------------------------------------------------------------\u001b[0m",
      "\u001b[1;31mValueError\u001b[0m                                Traceback (most recent call last)",
      "Cell \u001b[1;32mIn[11], line 2\u001b[0m\n\u001b[0;32m      1\u001b[0m l \u001b[38;5;241m=\u001b[39m [\u001b[38;5;241m10\u001b[39m, \u001b[38;5;241m20\u001b[39m, \u001b[38;5;241m50\u001b[39m, \u001b[38;5;241m40\u001b[39m, \u001b[38;5;241m30\u001b[39m, \u001b[38;5;241m60\u001b[39m,\u001b[38;5;241m55\u001b[39m, \u001b[38;5;241m80\u001b[39m]\n\u001b[1;32m----> 2\u001b[0m \u001b[38;5;28mprint\u001b[39m(\u001b[43ml\u001b[49m\u001b[38;5;241;43m.\u001b[39;49m\u001b[43mindex\u001b[49m\u001b[43m(\u001b[49m\u001b[38;5;241;43m100\u001b[39;49m\u001b[43m)\u001b[49m)\n",
      "\u001b[1;31mValueError\u001b[0m: 100 is not in list"
     ]
    }
   ],
   "source": [
    "l = [10, 20, 50, 40, 30, 60,55, 80]\n",
    "print(l.index(100))"
   ]
  },
  {
   "cell_type": "code",
   "execution_count": 13,
   "id": "2eb6dd05",
   "metadata": {},
   "outputs": [
    {
     "name": "stdout",
     "output_type": "stream",
     "text": [
      "enter the value to search: 100\n",
      "100 not avilable\n"
     ]
    }
   ],
   "source": [
    "l = [10, 20, 10, 50, 40, 30, 60,55, 80]\n",
    "target = int(input('enter the value to search: '))\n",
    "if target in l:\n",
    "    print(target, 'avilable and its first occurence is at: ',l.index(target))\n",
    "else:\n",
    "    print(target,'not avilable')"
   ]
  },
  {
   "cell_type": "code",
   "execution_count": 15,
   "id": "612c27b7",
   "metadata": {},
   "outputs": [
    {
     "name": "stdout",
     "output_type": "stream",
     "text": [
      "enter the value to search: 50\n",
      "50 avilable and its first occurence is at:  3\n"
     ]
    }
   ],
   "source": [
    "l = [10, 20, 10, 50, 40, 30, 60,55, 80]\n",
    "target = int(input('enter the value to search: '))\n",
    "try:\n",
    "    print(target, 'avilable and its first occurence is at: ',l.index(target))\n",
    "except ValueError:\n",
    "    print(target,'not avilable')"
   ]
  },
  {
   "cell_type": "code",
   "execution_count": 23,
   "id": "c6b2331f",
   "metadata": {},
   "outputs": [
    {
     "name": "stdout",
     "output_type": "stream",
     "text": [
      "enter a number:3\n",
      "0\n",
      "1\n",
      "4\n",
      "[0, 1, 2]\n",
      "4\n"
     ]
    }
   ],
   "source": [
    "\n",
    "n = int(input('enter a number:'))\n",
    "l = []\n",
    "for x in range(n):\n",
    "    \n",
    "    print(x*x)\n",
    "    l.append(x)\n",
    "    \n",
    "print(l)\n",
    "print(x**x)"
   ]
  },
  {
   "cell_type": "code",
   "execution_count": 24,
   "id": "60c640a9",
   "metadata": {},
   "outputs": [
    {
     "name": "stdout",
     "output_type": "stream",
     "text": [
      "enter a number:5\n",
      "0\n",
      "1\n",
      "4\n",
      "9\n",
      "16\n"
     ]
    }
   ],
   "source": [
    "n = int(input('enter a number:'))\n",
    "for x in range(n):\n",
    "    print(x*x)"
   ]
  },
  {
   "cell_type": "code",
   "execution_count": null,
   "id": "78b3381a",
   "metadata": {},
   "outputs": [],
   "source": []
  }
 ],
 "metadata": {
  "kernelspec": {
   "display_name": "Python 3 (ipykernel)",
   "language": "python",
   "name": "python3"
  },
  "language_info": {
   "codemirror_mode": {
    "name": "ipython",
    "version": 3
   },
   "file_extension": ".py",
   "mimetype": "text/x-python",
   "name": "python",
   "nbconvert_exporter": "python",
   "pygments_lexer": "ipython3",
   "version": "3.11.0"
  }
 },
 "nbformat": 4,
 "nbformat_minor": 5
}
