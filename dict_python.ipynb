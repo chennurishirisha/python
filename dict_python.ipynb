{
 "cells": [
  {
   "cell_type": "code",
   "execution_count": 1,
   "id": "4da9e523",
   "metadata": {},
   "outputs": [
    {
     "name": "stdout",
     "output_type": "stream",
     "text": [
      "sri\n",
      "{100: 'sri', 200: 'hai', 300: 'arjun'}\n"
     ]
    }
   ],
   "source": [
    "d = {100:'sri',200:'hai',300:'arjun'}\n",
    "print(d.setdefault(100,'hari'))\n",
    "print(d)"
   ]
  },
  {
   "cell_type": "code",
   "execution_count": 5,
   "id": "f3a1dbba",
   "metadata": {},
   "outputs": [
    {
     "name": "stdout",
     "output_type": "stream",
     "text": [
      "{100: 'sri', 200: 'hai', 300: 'arjun'}\n",
      "{100: 'sri', 200: 'hai', 300: 'arjun', 'a': 'apple', 'b': 'boy', 'c': 'cat'}\n"
     ]
    }
   ],
   "source": [
    "d = {100:'sri',200:'hai',300:'arjun'}\n",
    "print(d)\n",
    "d1 = {'a':'apple','b':'boy','c':'cat'}\n",
    "d2 ={124:'abc',125:'def'}\n",
    "d.update(d1)\n",
    "print(d)"
   ]
  },
  {
   "cell_type": "code",
   "execution_count": 8,
   "id": "ef656925",
   "metadata": {},
   "outputs": [
    {
     "name": "stdout",
     "output_type": "stream",
     "text": [
      "enter some word: shirishas\n",
      "a occurred1\n",
      "h occurred2\n",
      "i occurred2\n",
      "r occurred1\n",
      "s occurred3\n"
     ]
    }
   ],
   "source": [
    "word = input('enter some word: ')\n",
    "d ={}\n",
    "for x in word:\n",
    "    d[x] = d.get(x,0)+1\n",
    "for k, v in sorted(d.items()):\n",
    "    print('{} occurred{}'.format(k,v))\n",
    "    \n",
    "        "
   ]
  },
  {
   "cell_type": "code",
   "execution_count": null,
   "id": "eadb2097",
   "metadata": {},
   "outputs": [],
   "source": []
  },
  {
   "cell_type": "code",
   "execution_count": 14,
   "id": "ead910ad",
   "metadata": {},
   "outputs": [
    {
     "name": "stdout",
     "output_type": "stream",
     "text": [
      "Enter the number of students: 3\n",
      "enter student name:sai\n",
      "enter student Marks:45\n",
      "enter student name:sri\n",
      "enter student Marks:56\n",
      "enter student name:hari\n",
      "enter student Marks:85\n",
      "{'sai': '45', 'sri': '56', 'hari': '85'}\n",
      "enter student name to get marks:hari\n",
      "The marks of hari :85\n",
      "do you want to find another student marks[YES/NO]:No\n",
      "thanks for using our application\n"
     ]
    }
   ],
   "source": [
    "n = int(input('Enter the number of students: '))\n",
    "d = {}\n",
    "for i in range(n):\n",
    "    name = input('enter student name:')\n",
    "    marks = input('enter student Marks:')\n",
    "    d[name] = marks\n",
    "print(d)\n",
    "\n",
    "while True:\n",
    "    name = input('enter student name to get marks:')\n",
    "    marks = d.get(name,-1)\n",
    "    if marks ==-1:\n",
    "        print('Student not Found')\n",
    "    else:\n",
    "        print('The marks of {} :{}'.format(name,marks))\n",
    "    option = input('do you want to find another student marks[YES/NO]:')\n",
    "    if option == 'No':\n",
    "        break \n",
    "print('thanks for using our application')\n",
    "    "
   ]
  },
  {
   "cell_type": "code",
   "execution_count": 19,
   "id": "08b23b17",
   "metadata": {},
   "outputs": [
    {
     "name": "stdout",
     "output_type": "stream",
     "text": [
      "{1: 1, 2: 4, 3: 9, 4: 16, 5: 25}\n",
      "{1: 2, 2: 4, 3: 6, 4: 8, 5: 10}\n"
     ]
    }
   ],
   "source": [
    "# comprehention concept is aplicable for dict.\n",
    "#key : value\n",
    "squares = {x:x*x for x in range(1,6)}\n",
    "print(squares)\n",
    "double = {x:2*x for x in range(1,6)}\n",
    "print(double)"
   ]
  },
  {
   "cell_type": "code",
   "execution_count": null,
   "id": "a1ee5d8e",
   "metadata": {},
   "outputs": [],
   "source": []
  }
 ],
 "metadata": {
  "kernelspec": {
   "display_name": "Python 3 (ipykernel)",
   "language": "python",
   "name": "python3"
  },
  "language_info": {
   "codemirror_mode": {
    "name": "ipython",
    "version": 3
   },
   "file_extension": ".py",
   "mimetype": "text/x-python",
   "name": "python",
   "nbconvert_exporter": "python",
   "pygments_lexer": "ipython3",
   "version": "3.11.0"
  }
 },
 "nbformat": 4,
 "nbformat_minor": 5
}
